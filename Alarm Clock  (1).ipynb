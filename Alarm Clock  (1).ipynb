{
 "cells": [
  {
   "cell_type": "markdown",
   "id": "701e7b4e",
   "metadata": {},
   "source": [
    "# Alarm Clock using Datetime module and Playsound"
   ]
  },
  {
   "cell_type": "code",
   "execution_count": 1,
   "id": "1f7f5396",
   "metadata": {},
   "outputs": [],
   "source": [
    "from datetime import datetime   \n",
    "from playsound import playsound"
   ]
  },
  {
   "cell_type": "code",
   "execution_count": 2,
   "id": "df20813c",
   "metadata": {
    "scrolled": true
   },
   "outputs": [
    {
     "name": "stdout",
     "output_type": "stream",
     "text": [
      "Enter the time of alarm to be set:HH:MM:SS\n",
      "02:15:00\n"
     ]
    }
   ],
   "source": [
    "alarm_time = input(\"Enter the time of alarm to be set:HH:MM:SS\\n\")  # The input must be in the form of real world time... HH:MM:SS\n",
    "alarm_hour=alarm_time[0:2] # By default python initialises the variable as string... So, using string slicing starting from 0 till 1 (n-1), are the \"Hours\"               \n",
    "alarm_minute=alarm_time[3:5] #Using string slicing starting from 3 till 4 , we get the minutes\n",
    "alarm_seconds=alarm_time[6:8] # Same as above, for index 6 to 7 we get the seconds\n",
    "alarm_period = alarm_time[9:11].upper()"
   ]
  },
  {
   "cell_type": "code",
   "execution_count": 4,
   "id": "d324a4f1",
   "metadata": {},
   "outputs": [
    {
     "name": "stdout",
     "output_type": "stream",
     "text": [
      "Setting up the alarm\n"
     ]
    }
   ],
   "source": [
    "print(\"Setting up the alarm\")"
   ]
  },
  {
   "cell_type": "code",
   "execution_count": null,
   "id": "5ba00b62",
   "metadata": {},
   "outputs": [],
   "source": [
    "while True:\n",
    "    now = datetime.now() # Using datetime module to get current time\n",
    "    current_hour = now.strftime(\"%I\")\n",
    "    current_minute = now.strftime(\"%M\")\n",
    "    current_seconds = now.strftime(\"%S\")\n",
    "    current_period = now.strftime(\"%p\")\n",
    "    if(alarm_period==current_period): \n",
    "        if(alarm_hour==current_hour):\n",
    "            if(alarm_minute==current_minute):\n",
    "                if(alarm_seconds==current_seconds):\n",
    "                    print(\"Wake Up!\")\n",
    "                    playsound('audio.mp3')\n",
    "                    break"
   ]
  },
  {
   "cell_type": "code",
   "execution_count": null,
   "id": "b6a7d5ec",
   "metadata": {},
   "outputs": [],
   "source": []
  }
 ],
 "metadata": {
  "kernelspec": {
   "display_name": "Python 3 (ipykernel)",
   "language": "python",
   "name": "python3"
  },
  "language_info": {
   "codemirror_mode": {
    "name": "ipython",
    "version": 3
   },
   "file_extension": ".py",
   "mimetype": "text/x-python",
   "name": "python",
   "nbconvert_exporter": "python",
   "pygments_lexer": "ipython3",
   "version": "3.10.6"
  }
 },
 "nbformat": 4,
 "nbformat_minor": 5
}
